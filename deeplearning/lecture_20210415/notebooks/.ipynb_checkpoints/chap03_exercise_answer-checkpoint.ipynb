version https://git-lfs.github.com/spec/v1
oid sha256:0ef447f55037d313d96389fb1c9ef4b409ee12d6f1c6a71a0d350faec5a527ac
size 10907
