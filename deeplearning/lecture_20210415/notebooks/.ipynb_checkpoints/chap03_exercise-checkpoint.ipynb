version https://git-lfs.github.com/spec/v1
oid sha256:7fe440dda26cf2fdada0556281d434599aa44f01913ebae356071047a4690ffc
size 10977
