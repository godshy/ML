{
 "cells": [
  {
   "cell_type": "markdown",
   "metadata": {
    "id": "03FTy4lwzXiQ"
   },
   "source": [
    "# 第3回講義 宿題"
   ]
  },
  {
   "cell_type": "markdown",
   "metadata": {
    "id": "JtnWqKVGzXiT"
   },
   "source": [
    "## 課題\n",
    "今Lessonで学んだことを元に、MNISTのファッション版 (Fashion MNIST、クラス数10) をソフトマックス回帰によって分類してみましょう。\n",
    "\n",
    "Fashion MNISTの詳細については以下のリンクを参考にしてください。\n",
    "\n",
    "Fashion MNIST: https://github.com/zalandoresearch/fashion-mnist"
   ]
  },
  {
   "cell_type": "markdown",
   "metadata": {
    "id": "zyD3F677zXiU"
   },
   "source": [
    "### 目標値\n",
    "Accuracy: 80%"
   ]
  },
  {
   "cell_type": "markdown",
   "metadata": {
    "id": "9pt9rMcxzXiU"
   },
   "source": [
    "### ルール\n",
    "- **下のセルで指定されている`x_train、y_train`以外の学習データは使わないでください。**\n",
    "- **ソフトマックス回帰のアルゴリズム部分の実装はnumpyのみで行ってください** (sklearnやtensorflowなどは使用しないでください)。\n",
    "    - データの前処理部分でsklearnの関数を使う (例えば `sklearn.model_selection.train_test_split`) のは問題ありません。"
   ]
  },
  {
   "cell_type": "markdown",
   "metadata": {
    "id": "2bq41q5SzXiV"
   },
   "source": [
    "### 提出方法\n",
    "- 2つのファイルを提出していただきます。\n",
    "    1. テストデータ (`x_test`) に対する予測ラベルを`submission_pred.csv`として保存し、**Homeworkタブから`chap03`を選択して**提出してください。\n",
    "    2. それに対応するpythonのコードを`submission_code.py`として保存し、**Homeworkタブから`chap03 (code)`を選択して**提出してください。\n",
    "      \n",
    "- なお、採点は1で行い、2はコードの確認用として利用します（成績優秀者はコード内容を公開させていただくかもしれません）。コードの内容を変更した場合は、**1と2の両方を提出し直してください**。"
   ]
  },
  {
   "cell_type": "markdown",
   "metadata": {
    "id": "KJKR8DMtzXiW"
   },
   "source": [
    "### 評価方法\n",
    "- 予測ラベルの`y_test`に対する精度 (Accuracy) で評価します。\n",
    "- 定時に採点しLeader Boardを更新します。(採点スケジュールは別アナウンス）\n",
    "- 締切後の点数を最終的な評価とします。"
   ]
  },
  {
   "cell_type": "markdown",
   "metadata": {
    "id": "r20uRSCUzXiX"
   },
   "source": [
    "### データの読み込み (このセルは修正しないでください)"
   ]
  },
  {
   "cell_type": "code",
   "execution_count": 1,
   "metadata": {
    "id": "OZodouZWzXiX"
   },
   "outputs": [],
   "source": [
    "import os\n",
    "import sys\n",
    "\n",
    "import numpy as np\n",
    "import pandas as pd\n",
    "from sklearn.utils import shuffle\n",
    "\n",
    "sys.modules['tensorflow'] = None\n",
    "\n",
    "def load_fashionmnist():\n",
    "    # 学習データ\n",
    "    x_train = np.load('/Users/shy/Library/Mobile Documents/com~apple~CloudDocs/my python programming projects/ML/deeplearning/lecture_20210415/data/x_train.npy')\n",
    "    y_train = np.load('/Users/shy/Library/Mobile Documents/com~apple~CloudDocs/my python programming projects/ML/deeplearning/lecture_20210415/data/y_train.npy')\n",
    "    \n",
    "    # テストデータ\n",
    "    x_test = np.load('/Users/shy/Library/Mobile Documents/com~apple~CloudDocs/my python programming projects/ML/deeplearning/lecture_20210415/data/x_test.npy')\n",
    "    \n",
    "    x_train = x_train.reshape(-1, 784).astype('float32') / 255\n",
    "    y_train = np.eye(10)[y_train.astype('int32')]\n",
    "    x_test = x_test.reshape(-1, 784).astype('float32') / 255\n",
    "    \n",
    "    return x_train, y_train, x_test"
   ]
  },
  {
   "cell_type": "markdown",
   "metadata": {
    "id": "mHynK8xAzXid"
   },
   "source": [
    "### ソフトマックス回帰の実装"
   ]
  },
  {
   "cell_type": "code",
   "execution_count": 2,
   "metadata": {
    "id": "gU9E1ppuzXie"
   },
   "outputs": [
    {
     "name": "stdout",
     "output_type": "stream",
     "text": [
      "EPOCH: 1, Valid Cost: 4.708, Valid Accuracy: 0.102\n"
     ]
    },
    {
     "ename": "Exception",
     "evalue": "Data must be 1-dimensional",
     "output_type": "error",
     "traceback": [
      "\u001B[0;31m---------------------------------------------------------------------------\u001B[0m",
      "\u001B[0;31mException\u001B[0m                                 Traceback (most recent call last)",
      "\u001B[0;32m<ipython-input-2-535e1c5204ac>\u001B[0m in \u001B[0;36m<module>\u001B[0;34m\u001B[0m\n\u001B[1;32m     55\u001B[0m \u001B[0;31m#y_pred = # WRITE ME\u001B[0m\u001B[0;34m\u001B[0m\u001B[0;34m\u001B[0m\u001B[0;34m\u001B[0m\u001B[0m\n\u001B[1;32m     56\u001B[0m \u001B[0;34m\u001B[0m\u001B[0m\n\u001B[0;32m---> 57\u001B[0;31m \u001B[0msubmission\u001B[0m \u001B[0;34m=\u001B[0m \u001B[0mpd\u001B[0m\u001B[0;34m.\u001B[0m\u001B[0mSeries\u001B[0m\u001B[0;34m(\u001B[0m\u001B[0my_pred\u001B[0m\u001B[0;34m,\u001B[0m \u001B[0mname\u001B[0m\u001B[0;34m=\u001B[0m\u001B[0;34m'label'\u001B[0m\u001B[0;34m)\u001B[0m\u001B[0;34m\u001B[0m\u001B[0;34m\u001B[0m\u001B[0m\n\u001B[0m\u001B[1;32m     58\u001B[0m \u001B[0msubmission\u001B[0m\u001B[0;34m.\u001B[0m\u001B[0mto_csv\u001B[0m\u001B[0;34m(\u001B[0m\u001B[0;34m'/Users/shy/Library/Mobile Documents/com~apple~CloudDocs/my python programming projects/ML/deeplearning/lecture_20210415/data/submission_pred.csv'\u001B[0m\u001B[0;34m,\u001B[0m \u001B[0mheader\u001B[0m\u001B[0;34m=\u001B[0m\u001B[0;32mTrue\u001B[0m\u001B[0;34m,\u001B[0m \u001B[0mindex_label\u001B[0m\u001B[0;34m=\u001B[0m\u001B[0;34m'id'\u001B[0m\u001B[0;34m)\u001B[0m\u001B[0;34m\u001B[0m\u001B[0;34m\u001B[0m\u001B[0m\n",
      "\u001B[0;32m/Library/Frameworks/Python.framework/Versions/3.7/lib/python3.7/site-packages/pandas/core/series.py\u001B[0m in \u001B[0;36m__init__\u001B[0;34m(self, data, index, dtype, name, copy, fastpath)\u001B[0m\n\u001B[1;32m    325\u001B[0m                     \u001B[0mdata\u001B[0m \u001B[0;34m=\u001B[0m \u001B[0mdata\u001B[0m\u001B[0;34m.\u001B[0m\u001B[0mcopy\u001B[0m\u001B[0;34m(\u001B[0m\u001B[0;34m)\u001B[0m\u001B[0;34m\u001B[0m\u001B[0;34m\u001B[0m\u001B[0m\n\u001B[1;32m    326\u001B[0m             \u001B[0;32melse\u001B[0m\u001B[0;34m:\u001B[0m\u001B[0;34m\u001B[0m\u001B[0;34m\u001B[0m\u001B[0m\n\u001B[0;32m--> 327\u001B[0;31m                 \u001B[0mdata\u001B[0m \u001B[0;34m=\u001B[0m \u001B[0msanitize_array\u001B[0m\u001B[0;34m(\u001B[0m\u001B[0mdata\u001B[0m\u001B[0;34m,\u001B[0m \u001B[0mindex\u001B[0m\u001B[0;34m,\u001B[0m \u001B[0mdtype\u001B[0m\u001B[0;34m,\u001B[0m \u001B[0mcopy\u001B[0m\u001B[0;34m,\u001B[0m \u001B[0mraise_cast_failure\u001B[0m\u001B[0;34m=\u001B[0m\u001B[0;32mTrue\u001B[0m\u001B[0;34m)\u001B[0m\u001B[0;34m\u001B[0m\u001B[0;34m\u001B[0m\u001B[0m\n\u001B[0m\u001B[1;32m    328\u001B[0m \u001B[0;34m\u001B[0m\u001B[0m\n\u001B[1;32m    329\u001B[0m                 \u001B[0mdata\u001B[0m \u001B[0;34m=\u001B[0m \u001B[0mSingleBlockManager\u001B[0m\u001B[0;34m.\u001B[0m\u001B[0mfrom_array\u001B[0m\u001B[0;34m(\u001B[0m\u001B[0mdata\u001B[0m\u001B[0;34m,\u001B[0m \u001B[0mindex\u001B[0m\u001B[0;34m)\u001B[0m\u001B[0;34m\u001B[0m\u001B[0;34m\u001B[0m\u001B[0m\n",
      "\u001B[0;32m/Library/Frameworks/Python.framework/Versions/3.7/lib/python3.7/site-packages/pandas/core/construction.py\u001B[0m in \u001B[0;36msanitize_array\u001B[0;34m(data, index, dtype, copy, raise_cast_failure)\u001B[0m\n\u001B[1;32m    494\u001B[0m     \u001B[0;32melif\u001B[0m \u001B[0msubarr\u001B[0m\u001B[0;34m.\u001B[0m\u001B[0mndim\u001B[0m \u001B[0;34m>\u001B[0m \u001B[0;36m1\u001B[0m\u001B[0;34m:\u001B[0m\u001B[0;34m\u001B[0m\u001B[0;34m\u001B[0m\u001B[0m\n\u001B[1;32m    495\u001B[0m         \u001B[0;32mif\u001B[0m \u001B[0misinstance\u001B[0m\u001B[0;34m(\u001B[0m\u001B[0mdata\u001B[0m\u001B[0;34m,\u001B[0m \u001B[0mnp\u001B[0m\u001B[0;34m.\u001B[0m\u001B[0mndarray\u001B[0m\u001B[0;34m)\u001B[0m\u001B[0;34m:\u001B[0m\u001B[0;34m\u001B[0m\u001B[0;34m\u001B[0m\u001B[0m\n\u001B[0;32m--> 496\u001B[0;31m             \u001B[0;32mraise\u001B[0m \u001B[0mException\u001B[0m\u001B[0;34m(\u001B[0m\u001B[0;34m\"Data must be 1-dimensional\"\u001B[0m\u001B[0;34m)\u001B[0m\u001B[0;34m\u001B[0m\u001B[0;34m\u001B[0m\u001B[0m\n\u001B[0m\u001B[1;32m    497\u001B[0m         \u001B[0;32melse\u001B[0m\u001B[0;34m:\u001B[0m\u001B[0;34m\u001B[0m\u001B[0;34m\u001B[0m\u001B[0m\n\u001B[1;32m    498\u001B[0m             \u001B[0msubarr\u001B[0m \u001B[0;34m=\u001B[0m \u001B[0mcom\u001B[0m\u001B[0;34m.\u001B[0m\u001B[0masarray_tuplesafe\u001B[0m\u001B[0;34m(\u001B[0m\u001B[0mdata\u001B[0m\u001B[0;34m,\u001B[0m \u001B[0mdtype\u001B[0m\u001B[0;34m=\u001B[0m\u001B[0mdtype\u001B[0m\u001B[0;34m)\u001B[0m\u001B[0;34m\u001B[0m\u001B[0;34m\u001B[0m\u001B[0m\n",
      "\u001B[0;31mException\u001B[0m: Data must be 1-dimensional"
     ]
    }
   ],
   "source": [
    "\n",
    "x_train, y_train, x_test = load_fashionmnist()\n",
    "\n",
    "from sklearn.metrics import accuracy_score\n",
    "from sklearn.model_selection import train_test_split\n",
    "\n",
    "def softmax(x):\n",
    "    x -= x.max(axis = 1, keepdims = True)\n",
    "    x_exp = np.exp(x)\n",
    "    return x_exp/np.sum(x_exp, axis=1, keepdims=True)\n",
    "    # WRITE ME\n",
    "\n",
    "# weights\n",
    "W = np.random.uniform(low = -0.08, high = 0.08, size = (784,10)).astype('float32')# WRITE ME\n",
    "b = np.zeros(shape=(10,)).astype('float32')# WRITE ME\n",
    "\n",
    "# 学習データと検証データに分割\n",
    "x_train, x_valid, y_train, y_valid = train_test_split(x_train, y_train, test_size=0.1)\n",
    "\n",
    "\n",
    "def np_log(x):\n",
    "    return np.log(np.clip(a=x, a_min=1e-10, a_max=1e+10))\n",
    "\n",
    "def train(x, t, eps=1.0):\n",
    "    global W, b\n",
    "\n",
    "    batch_size = x.shape[0]\n",
    "\n",
    "    y_hat = softmax(np.matmul(x,W) + b)\n",
    "    cost = (-t * np_log(y_hat)).sum(axis=1).mean()\n",
    "    delta = y_hat - t\n",
    "    dw = np.matmul(x.T, delta) / batch_size\n",
    "    db = np.matmul(np.ones(shape=(batch_size,)), delta) / batch_size\n",
    "    W -= eps * dw\n",
    "    b -= eps * db\n",
    "    return cost\n",
    "    # WRITE ME\n",
    "\n",
    "def valid(x, t):\n",
    "    y_hat = softmax(np.matmul(x, W) + b)\n",
    "    cost = (- t * np_log(y_hat)).sum(axis=1).mean()\n",
    "    return cost, y_hat\n",
    "    # WRITE ME\n",
    "\n",
    "for epoch in range(1):\n",
    "    x_train, y_train = shuffle(x_train, y_train)\n",
    "    cost = train(x_train, y_train)\n",
    "    cost, y_pred = valid(x_valid, y_valid)\n",
    "    if epoch % 10 == 9 or epoch == 0:\n",
    "        print('EPOCH: {}, Valid Cost: {:.3f}, Valid Accuracy: {:.3f}'.format(\n",
    "            epoch + 1,\n",
    "            cost,\n",
    "            accuracy_score(y_valid.argmax(axis=1), y_pred.argmax(axis=1))\n",
    "        ))\n",
    "\n",
    "#y_pred = # WRITE ME\n",
    "\n",
    "submission = pd.Series(y_pred, name='label')\n",
    "submission.to_csv('/Users/shy/Library/Mobile Documents/com~apple~CloudDocs/my python programming projects/ML/deeplearning/lecture_20210415/data/submission_pred.csv', header=True, index_label='id')"
   ]
  }
 ],
 "metadata": {
  "colab": {
   "collapsed_sections": [],
   "name": "chap03_homework.ipynb",
   "provenance": []
  },
  "kernelspec": {
   "name": "pycharm-401621b5",
   "language": "python",
   "display_name": "PyCharm (ML)"
  },
  "language_info": {
   "codemirror_mode": {
    "name": "ipython",
    "version": 3
   },
   "file_extension": ".py",
   "mimetype": "text/x-python",
   "name": "python",
   "nbconvert_exporter": "python",
   "pygments_lexer": "ipython3",
   "version": "3.7.3"
  }
 },
 "nbformat": 4,
 "nbformat_minor": 4
}