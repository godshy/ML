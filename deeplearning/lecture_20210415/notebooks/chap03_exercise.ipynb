version https://git-lfs.github.com/spec/v1
oid sha256:6050aff3376af2c694c2cb83d20a4925f51df9ee5d81e02d5c6ea3c43813f48d
size 13208
