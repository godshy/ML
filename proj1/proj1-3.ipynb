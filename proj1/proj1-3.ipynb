version https://git-lfs.github.com/spec/v1
oid sha256:4528dee2c74d3b65f4598f204682aa706369217b3af0aac3e1e1420ad6e604a6
size 161646
