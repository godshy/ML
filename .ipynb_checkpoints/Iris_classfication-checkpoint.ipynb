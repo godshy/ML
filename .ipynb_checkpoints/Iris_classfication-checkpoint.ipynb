version https://git-lfs.github.com/spec/v1
oid sha256:2c8ea16385032eb9705b0e3d452895115760a1e13b9b94cdceced574607236d7
size 2354
