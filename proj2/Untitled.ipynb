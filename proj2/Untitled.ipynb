version https://git-lfs.github.com/spec/v1
oid sha256:ba0723fc9bf9c9faff46b3b464b69245c0c8b0bcef6fe566a2f5384cad832c5b
size 98466
