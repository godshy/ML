{
 "cells": [
  {
   "cell_type": "code",
   "execution_count": 5,
   "metadata": {},
   "outputs": [
    {
     "data": {
      "image/png": "[encoded data removed]",
      "text/plain": [
       "<Figure size 432x288 with 1 Axes>"
      ]
     },
     "metadata": {
      "needs_background": "light"
     },
     "output_type": "display_data"
    }
   ],
   "source": [
    "# coding: utf-8                                                                                                                                                                                 \n",
    "import random\n",
    "import numpy as np\n",
    "import matplotlib.pyplot as plt\n",
    "\n",
    "ntrial = 10000\n",
    "\n",
    "dice1=[ ]\n",
    "dice2=[ ]\n",
    "dice5=[ ]\n",
    "dice10=[ ]\n",
    "\n",
    "for _ in range(ntrial):\n",
    "    s1=0\n",
    "    for _ in range(1):\n",
    "        s1 = s1 + random.randint(0,1)\n",
    "    dice1.append(s1)\n",
    "    \n",
    "    s2=0\n",
    "    for _ in range(2):\n",
    "        s2 = s2 + random.randint(0,1)\n",
    "    dice2.append(s2)\n",
    "\n",
    "    s5=0\n",
    "    for _ in range(5):\n",
    "        s5 = s5 + random.randint(0,1)\n",
    "    dice5.append(s5)\n",
    "\n",
    "    s10=0\n",
    "    for _ in range(10):\n",
    "        s10 = s10 + random.randint(1,6)\n",
    "    dice10.append(s10)\n",
    "\n",
    "#bins = np.linspace(0, 100, 101)\n",
    "plt.hist([dice1], bins='auto')\n",
    "#plt.hist([dice1,dice2,dice5,dice10], bins, label=[\"n=1\", \"n=2\",\"n=5\",\"n=10\"])\n",
    "plt.xlabel('sum')\n",
    "plt.ylabel('Frequency')\n",
    "#plt.legend(loc='upper right')\n",
    "#plt.xlim(0,60)\n",
    "#plt.grid(True)\n",
    "plt.show()"
   ]
  },
  {
   "cell_type": "code",
   "execution_count": 6,
   "metadata": {},
   "outputs": [
    {
     "data": {
      "text/plain": [
       "(array([2468.,    0.,    0.,    0.,    0.,    0.,    0., 5059.,    0.,\n",
       "           0.,    0.,    0.,    0.,    0., 2473.]),\n",
       " array([0.        , 0.13333333, 0.26666667, 0.4       , 0.53333333,\n",
       "        0.66666667, 0.8       , 0.93333333, 1.06666667, 1.2       ,\n",
       "        1.33333333, 1.46666667, 1.6       , 1.73333333, 1.86666667,\n",
       "        2.        ]),\n",
       " <a list of 15 Patch objects>)"
      ]
     },
     "execution_count": 6,
     "metadata": {},
     "output_type": "execute_result"
    },
    {
     "data": {
      "image/png": "[encoded data removed]",
      "text/plain": [
       "<Figure size 432x288 with 1 Axes>"
      ]
     },
     "metadata": {
      "needs_background": "light"
     },
     "output_type": "display_data"
    }
   ],
   "source": [
    "plt.hist([dice2], bins='auto')"
   ]
  },
  {
   "cell_type": "code",
   "execution_count": 9,
   "metadata": {},
   "outputs": [
    {
     "data": {
      "text/plain": [
       "(array([ 315.,    0.,    0.,    0.,    0.,    0.,    0.,    0.,    0.,\n",
       "           0., 1590.,    0.,    0.,    0.,    0.,    0.,    0.,    0.,\n",
       "           0.,    0.,    0., 3098.,    0.,    0.,    0.,    0.,    0.,\n",
       "           0.,    0.,    0.,    0.,    0., 3175.,    0.,    0.,    0.,\n",
       "           0.,    0.,    0.,    0.,    0.,    0.,    0., 1532.,    0.,\n",
       "           0.,    0.,    0.,    0.,    0.,    0.,    0.,    0.,  290.]),\n",
       " array([0.        , 0.09259259, 0.18518519, 0.27777778, 0.37037037,\n",
       "        0.46296296, 0.55555556, 0.64814815, 0.74074074, 0.83333333,\n",
       "        0.92592593, 1.01851852, 1.11111111, 1.2037037 , 1.2962963 ,\n",
       "        1.38888889, 1.48148148, 1.57407407, 1.66666667, 1.75925926,\n",
       "        1.85185185, 1.94444444, 2.03703704, 2.12962963, 2.22222222,\n",
       "        2.31481481, 2.40740741, 2.5       , 2.59259259, 2.68518519,\n",
       "        2.77777778, 2.87037037, 2.96296296, 3.05555556, 3.14814815,\n",
       "        3.24074074, 3.33333333, 3.42592593, 3.51851852, 3.61111111,\n",
       "        3.7037037 , 3.7962963 , 3.88888889, 3.98148148, 4.07407407,\n",
       "        4.16666667, 4.25925926, 4.35185185, 4.44444444, 4.53703704,\n",
       "        4.62962963, 4.72222222, 4.81481481, 4.90740741, 5.        ]),\n",
       " <a list of 54 Patch objects>)"
      ]
     },
     "execution_count": 9,
     "metadata": {},
     "output_type": "execute_result"
    },
    {
     "data": {
      "image/png": "[encoded data removed]",
      "text/plain": [
       "<Figure size 432x288 with 1 Axes>"
      ]
     },
     "metadata": {
      "needs_background": "light"
     },
     "output_type": "display_data"
    }
   ],
   "source": [
    "plt.hist([dice5],bins='auto')"
   ]
  },
  {
   "cell_type": "code",
   "execution_count": 10,
   "metadata": {},
   "outputs": [
    {
     "data": {
      "text/plain": [
       "(array([  1.,   0.,   0.,   0.,   5.,   4.,  11.,   0.,  25.,  46.,  71.,\n",
       "          0., 103., 137., 184.,   0., 274., 311., 427.,   0., 522., 548.,\n",
       "        612.,   0., 652., 700.,   0., 704., 701., 694.,   0., 636., 611.,\n",
       "        471.,   0., 418., 329., 236.,   0., 176., 129.,  99.,   0.,  68.,\n",
       "         38.,  30.,   0.,  16.,   7.,   1.,   0.,   0.,   1.,   2.]),\n",
       " array([15.        , 15.74074074, 16.48148148, 17.22222222, 17.96296296,\n",
       "        18.7037037 , 19.44444444, 20.18518519, 20.92592593, 21.66666667,\n",
       "        22.40740741, 23.14814815, 23.88888889, 24.62962963, 25.37037037,\n",
       "        26.11111111, 26.85185185, 27.59259259, 28.33333333, 29.07407407,\n",
       "        29.81481481, 30.55555556, 31.2962963 , 32.03703704, 32.77777778,\n",
       "        33.51851852, 34.25925926, 35.        , 35.74074074, 36.48148148,\n",
       "        37.22222222, 37.96296296, 38.7037037 , 39.44444444, 40.18518519,\n",
       "        40.92592593, 41.66666667, 42.40740741, 43.14814815, 43.88888889,\n",
       "        44.62962963, 45.37037037, 46.11111111, 46.85185185, 47.59259259,\n",
       "        48.33333333, 49.07407407, 49.81481481, 50.55555556, 51.2962963 ,\n",
       "        52.03703704, 52.77777778, 53.51851852, 54.25925926, 55.        ]),\n",
       " <a list of 54 Patch objects>)"
      ]
     },
     "execution_count": 10,
     "metadata": {},
     "output_type": "execute_result"
    },
    {
     "data": {
      "image/png": "[encoded data removed]",
      "text/plain": [
       "<Figure size 432x288 with 1 Axes>"
      ]
     },
     "metadata": {
      "needs_background": "light"
     },
     "output_type": "display_data"
    }
   ],
   "source": [
    "plt.hist([dice10],bins='auto')"
   ]
  },
  {
   "cell_type": "code",
   "execution_count": 16,
   "metadata": {},
   "outputs": [
    {
     "data": {
      "image/png": "[encoded data removed]",
      "text/plain": [
       "<Figure size 432x288 with 1 Axes>"
      ]
     },
     "metadata": {
      "needs_background": "light"
     },
     "output_type": "display_data"
    }
   ],
   "source": [
    "# coding: utf-8                                                                                                                                                                                 \n",
    "import random\n",
    "import numpy as np\n",
    "import matplotlib.pyplot as plt\n",
    "\n",
    "ntrial = 1000\n",
    "\n",
    "dice1=[ ]\n",
    "dice2=[ ]\n",
    "dice5=[ ]\n",
    "dice10=[ ]\n",
    "\n",
    "for _ in range(ntrial):\n",
    "    s1=0\n",
    "    for _ in range(10000):\n",
    "        s1 = s1 + random.randint(0,1)\n",
    "    dice1.append(s1)\n",
    "    \n",
    "\n",
    "\n",
    "#bins = np.linspace(0, 100, 101)\n",
    "plt.hist([dice1], bins='auto')\n",
    "#plt.hist([dice1,dice2,dice5,dice10], bins, label=[\"n=1\", \"n=2\",\"n=5\",\"n=10\"])\n",
    "plt.xlabel('sum')\n",
    "plt.ylabel('Frequency')\n",
    "#plt.legend(loc='upper right')\n",
    "#plt.xlim(0,60)\n",
    "#plt.grid(True)\n",
    "plt.show()"
   ]
  },
  {
   "cell_type": "markdown",
   "metadata": {},
   "source": [
    "from scipy.stats import uniform\n",
    "from statistics import mean\n",
    "from statistics import pvariance\n",
    "import seaborn as sns\n",
    "\n",
    "x = np.linspace(uniform.ppf(0.01, loc=0.0, scale=1.0), uniform.ppf(0.99, loc=0.0, scale=1.0), 1)\n",
    "p = uniform.pdf(x,loc=1, scale=3)\n",
    "\n",
    "x2 = uniform.rvs(loc=0.0, scale=.0, size=10000) #区間 loc, loc+scale\n",
    "\n",
    "m = mean(x2)\n",
    "v = pvariance(x2)\n",
    "\n",
    "print(\"P(X) = \", p)\n",
    "print(\"E(X) = \", m)\n",
    "print(\"V(X) = \", v)"
   ]
  },
  {
   "cell_type": "code",
   "execution_count": null,
   "metadata": {},
   "outputs": [],
   "source": []
  }
 ],
 "metadata": {
  "kernelspec": {
   "display_name": "Python 3",
   "language": "python",
   "name": "python3"
  },
  "language_info": {
   "codemirror_mode": {
    "name": "ipython",
    "version": 3
   },
   "file_extension": ".py",
   "mimetype": "text/x-python",
   "name": "python",
   "nbconvert_exporter": "python",
   "pygments_lexer": "ipython3",
   "version": "3.6.9"
  }
 },
 "nbformat": 4,
 "nbformat_minor": 4
}
