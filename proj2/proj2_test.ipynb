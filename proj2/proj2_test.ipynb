{
 "cells": [
  {
   "cell_type": "code",
   "execution_count": 1,
   "metadata": {},
   "outputs": [],
   "source": [
    "import numpy as np\n",
    "import matplotlib.pyplot as plt\n",
    "import math\n",
    "import numpy.matlib\n",
    "np.random.seed(0)"
   ]
  },
  {
   "cell_type": "code",
   "execution_count": 2,
   "metadata": {},
   "outputs": [],
   "source": [
    "N = 10000\n",
    "M1 = 1\n",
    "M2 = 2\n",
    "M5 = 5\n",
    "M10 = 10"
   ]
  },
  {
   "cell_type": "code",
   "execution_count": 3,
   "metadata": {},
   "outputs": [],
   "source": [
    "r1 = np.random.rand(N, M1)  #矩阵列向量为N个乱数，横向量为组号\n",
    "r2 = np.random.rand(N, M2)\n",
    "r5 = np.random.rand(N, M5)\n",
    "r10 = np.random.rand(N, M10)"
   ]
  },
  {
   "cell_type": "code",
   "execution_count": 4,
   "metadata": {},
   "outputs": [],
   "source": [
    "avgY1 = (r1.mean(axis = 0))\n",
    "avgY2 = (r2.mean(axis = 0))\n",
    "avgY5 = (r5.mean(axis = 0))\n",
    "avgY10 = (r10.mean(axis = 0))"
   ]
  },
  {
   "cell_type": "code",
   "execution_count": null,
   "metadata": {},
   "outputs": [],
   "source": []
  },
  {
   "cell_type": "code",
   "execution_count": 5,
   "metadata": {},
   "outputs": [
    {
     "name": "stdout",
     "output_type": "stream",
     "text": [
      "[0.74826798 0.38902314 0.01178774 ... 0.82032798 0.53114044 0.73422955]\n"
     ]
    }
   ],
   "source": [
    "print(r2[:,0])"
   ]
  },
  {
   "cell_type": "code",
   "execution_count": 6,
   "metadata": {},
   "outputs": [],
   "source": [
    "var1=[]\n",
    "var2=[]\n",
    "var5=[]\n",
    "var10=[]\n",
    "var1.append(np.var(r1))\n",
    "var2.append(np.var(r2[:,0]))\n",
    "var2.append(np.var(r2[:,1]))\n",
    "var5.append(np.var(r5[:,0]))\n",
    "var5.append(np.var(r5[:,1]))\n",
    "var5.append(np.var(r5[:,2]))\n",
    "var5.append(np.var(r5[:,3]))\n",
    "var5.append(np.var(r5[:,4]))"
   ]
  },
  {
   "cell_type": "code",
   "execution_count": 7,
   "metadata": {},
   "outputs": [],
   "source": [
    "var10.append(np.var(r10[:,0]))\n",
    "var10.append(np.var(r10[:,1]))\n",
    "var10.append(np.var(r10[:,2]))\n",
    "var10.append(np.var(r10[:,3]))\n",
    "var10.append(np.var(r10[:,4]))\n",
    "var10.append(np.var(r10[:,5]))\n",
    "var10.append(np.var(r10[:,6]))\n",
    "var10.append(np.var(r10[:,7]))\n",
    "var10.append(np.var(r10[:,8]))\n",
    "var10.append(np.var(r10[:,9]))"
   ]
  },
  {
   "cell_type": "code",
   "execution_count": 22,
   "metadata": {},
   "outputs": [
    {
     "data": {
      "text/plain": [
       "(array([1., 3., 2., 3., 1.]),\n",
       " array([0.08143727, 0.08218117, 0.08292506, 0.08366896, 0.08441285,\n",
       "        0.08515674]),\n",
       " <a list of 5 Patch objects>)"
      ]
     },
     "execution_count": 22,
     "metadata": {},
     "output_type": "execute_result"
    },
    {
     "data": {
      "image/png": "[encoded data removed]",
      "text/plain": [
       "<Figure size 432x288 with 1 Axes>"
      ]
     },
     "metadata": {
      "needs_background": "light"
     },
     "output_type": "display_data"
    }
   ],
   "source": [
    "plt.hist(var10, bins = 'auto')"
   ]
  },
  {
   "cell_type": "code",
   "execution_count": null,
   "metadata": {},
   "outputs": [],
   "source": []
  },
  {
   "cell_type": "code",
   "execution_count": null,
   "metadata": {},
   "outputs": [],
   "source": []
  },
  {
   "cell_type": "code",
   "execution_count": null,
   "metadata": {},
   "outputs": [],
   "source": []
  },
  {
   "cell_type": "code",
   "execution_count": null,
   "metadata": {},
   "outputs": [],
   "source": []
  },
  {
   "cell_type": "code",
   "execution_count": null,
   "metadata": {},
   "outputs": [],
   "source": []
  }
 ],
 "metadata": {
  "kernelspec": {
   "display_name": "Python 3",
   "language": "python",
   "name": "python3"
  },
  "language_info": {
   "codemirror_mode": {
    "name": "ipython",
    "version": 3
   },
   "file_extension": ".py",
   "mimetype": "text/x-python",
   "name": "python",
   "nbconvert_exporter": "python",
   "pygments_lexer": "ipython3",
   "version": "3.6.9"
  }
 },
 "nbformat": 4,
 "nbformat_minor": 4
}
