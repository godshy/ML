version https://git-lfs.github.com/spec/v1
oid sha256:d8ef4b5a3ddfa73d088a470f4d62ae690f8083da5664e1c768ac34e4b4c346dc
size 85047
