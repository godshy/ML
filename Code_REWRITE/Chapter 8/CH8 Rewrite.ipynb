version https://git-lfs.github.com/spec/v1
oid sha256:b881677c998570d3bc841e95c7caf4d0ef7ba10dbbd6b1c0346f9946b0fcf40c
size 292916
