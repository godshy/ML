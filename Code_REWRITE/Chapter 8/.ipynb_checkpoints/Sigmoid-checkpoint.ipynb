version https://git-lfs.github.com/spec/v1
oid sha256:dfcb34a8b0287f47b81466732b143498ca40a950b98b4b330a4d8ebc0c0faea1
size 82973
