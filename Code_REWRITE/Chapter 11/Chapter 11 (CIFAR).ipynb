version https://git-lfs.github.com/spec/v1
oid sha256:001e221c3b6942a8334c738a85271568e380b7930b933c13a904b145cdb2a56f
size 58837
