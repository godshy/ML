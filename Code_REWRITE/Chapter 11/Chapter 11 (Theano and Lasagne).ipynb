version https://git-lfs.github.com/spec/v1
oid sha256:1020f3b6ee6688f0e94894bd945e8dd89a63c6c434d3cef3378601289e08f00c
size 62409
