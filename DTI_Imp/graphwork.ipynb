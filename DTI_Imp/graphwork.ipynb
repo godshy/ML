{
 "cells": [
  {
   "cell_type": "code",
   "execution_count": 16,
   "id": "fb6b3c64-6ac2-4f04-bcd3-38eeff82d823",
   "metadata": {},
   "outputs": [],
   "source": [
    "import networkx as nx\n",
    "import pandas as pd\n",
    "import numpy as np\n",
    "import matplotlib.pyplot as plt"
   ]
  },
  {
   "cell_type": "code",
   "execution_count": 5,
   "id": "8cb7688c-4880-4217-a49e-14f35f4ed1af",
   "metadata": {},
   "outputs": [],
   "source": [
    "graph_source = pd.read_csv('to_graph.csv')\n",
    "df = pd.read_csv('final_result_mibig.csv')"
   ]
  },
  {
   "cell_type": "code",
   "execution_count": 13,
   "id": "b58c3f44-e6b2-46b2-a610-5dc4e5795df0",
   "metadata": {},
   "outputs": [
    {
     "data": {
      "text/html": [
       "<div>\n",
       "<style scoped>\n",
       "    .dataframe tbody tr th:only-of-type {\n",
       "        vertical-align: middle;\n",
       "    }\n",
       "\n",
       "    .dataframe tbody tr th {\n",
       "        vertical-align: top;\n",
       "    }\n",
       "\n",
       "    .dataframe thead th {\n",
       "        text-align: right;\n",
       "    }\n",
       "</style>\n",
       "<table border=\"1\" class=\"dataframe\">\n",
       "  <thead>\n",
       "    <tr style=\"text-align: right;\">\n",
       "      <th></th>\n",
       "      <th>organism_name</th>\n",
       "      <th>NO</th>\n",
       "      <th>compound</th>\n",
       "    </tr>\n",
       "  </thead>\n",
       "  <tbody>\n",
       "    <tr>\n",
       "      <th>0</th>\n",
       "      <td>Verrucosispora maris AB-18-032</td>\n",
       "      <td>0</td>\n",
       "      <td>abyssomicin C</td>\n",
       "    </tr>\n",
       "    <tr>\n",
       "      <th>1</th>\n",
       "      <td>Verrucosispora maris AB-18-032</td>\n",
       "      <td>1</td>\n",
       "      <td>atrop-abyssomicin C</td>\n",
       "    </tr>\n",
       "    <tr>\n",
       "      <th>2</th>\n",
       "      <td>Kutzneria albida DSM 43870</td>\n",
       "      <td>0</td>\n",
       "      <td>aculeximycin</td>\n",
       "    </tr>\n",
       "    <tr>\n",
       "      <th>3</th>\n",
       "      <td>Alternaria alternata</td>\n",
       "      <td>0</td>\n",
       "      <td>AF-toxin</td>\n",
       "    </tr>\n",
       "    <tr>\n",
       "      <th>4</th>\n",
       "      <td>Aspergillus oryzae</td>\n",
       "      <td>0</td>\n",
       "      <td>aflatoxin G1</td>\n",
       "    </tr>\n",
       "    <tr>\n",
       "      <th>...</th>\n",
       "      <td>...</td>\n",
       "      <td>...</td>\n",
       "      <td>...</td>\n",
       "    </tr>\n",
       "    <tr>\n",
       "      <th>2684</th>\n",
       "      <td>Streptomyces sp. IB2014 016-6</td>\n",
       "      <td>0</td>\n",
       "      <td>perquinoline A</td>\n",
       "    </tr>\n",
       "    <tr>\n",
       "      <th>2685</th>\n",
       "      <td>Streptomyces sp. IB2014 016-6</td>\n",
       "      <td>1</td>\n",
       "      <td>perquinoline B</td>\n",
       "    </tr>\n",
       "    <tr>\n",
       "      <th>2686</th>\n",
       "      <td>Streptomyces sp. IB2014 016-6</td>\n",
       "      <td>2</td>\n",
       "      <td>perquinoline C</td>\n",
       "    </tr>\n",
       "    <tr>\n",
       "      <th>2687</th>\n",
       "      <td>Neonectria sp. DH2</td>\n",
       "      <td>0</td>\n",
       "      <td>ilicicolin H</td>\n",
       "    </tr>\n",
       "    <tr>\n",
       "      <th>2688</th>\n",
       "      <td>Streptomyces lavendulae</td>\n",
       "      <td>0</td>\n",
       "      <td>dehydrofosmidomycin</td>\n",
       "    </tr>\n",
       "  </tbody>\n",
       "</table>\n",
       "<p>2689 rows × 3 columns</p>\n",
       "</div>"
      ],
      "text/plain": [
       "                       organism_name  NO             compound\n",
       "0     Verrucosispora maris AB-18-032   0        abyssomicin C\n",
       "1     Verrucosispora maris AB-18-032   1  atrop-abyssomicin C\n",
       "2         Kutzneria albida DSM 43870   0         aculeximycin\n",
       "3               Alternaria alternata   0             AF-toxin\n",
       "4                 Aspergillus oryzae   0         aflatoxin G1\n",
       "...                              ...  ..                  ...\n",
       "2684   Streptomyces sp. IB2014 016-6   0       perquinoline A\n",
       "2685   Streptomyces sp. IB2014 016-6   1       perquinoline B\n",
       "2686   Streptomyces sp. IB2014 016-6   2       perquinoline C\n",
       "2687              Neonectria sp. DH2   0         ilicicolin H\n",
       "2688         Streptomyces lavendulae   0  dehydrofosmidomycin\n",
       "\n",
       "[2689 rows x 3 columns]"
      ]
     },
     "execution_count": 13,
     "metadata": {},
     "output_type": "execute_result"
    }
   ],
   "source": [
    "graph_source"
   ]
  },
  {
   "cell_type": "code",
   "execution_count": 24,
   "id": "cbf19390-f722-4588-944d-656477e1daa4",
   "metadata": {},
   "outputs": [],
   "source": [
    "node_organism = list(graph_source['organism_name'])\n",
    "node_compound = list(graph_source['compound'])\n",
    "edges = []\n",
    "for i in range(len(node_organism)):\n",
    "    edges.append((node_organism[i], node_compound[i]))\n"
   ]
  },
  {
   "cell_type": "code",
   "execution_count": 27,
   "id": "81f25728-b174-491c-8a24-641b54d18fc1",
   "metadata": {},
   "outputs": [],
   "source": [
    "G = nx.Graph()\n",
    "G.add_nodes_from(node_organism)\n",
    "G.add_nodes_from(node_compound)\n",
    "G.add_edges_from(edges)"
   ]
  },
  {
   "cell_type": "code",
   "execution_count": 28,
   "id": "c83fafc0-8770-4485-bd72-664853d47974",
   "metadata": {},
   "outputs": [
    {
     "data": {
      "image/png": "[encoded data removed]",
      "text/plain": [
       "<Figure size 432x288 with 1 Axes>"
      ]
     },
     "metadata": {},
     "output_type": "display_data"
    }
   ],
   "source": [
    "nx.draw_networkx(G)\n",
    "plt.show()"
   ]
  }
 ],
 "metadata": {
  "kernelspec": {
   "display_name": "PyCharm (ML)",
   "language": "python",
   "name": "pycharm-401621b5"
  },
  "language_info": {
   "codemirror_mode": {
    "name": "ipython",
    "version": 3
   },
   "file_extension": ".py",
   "mimetype": "text/x-python",
   "name": "python",
   "nbconvert_exporter": "python",
   "pygments_lexer": "ipython3",
   "version": "3.7.3"
  }
 },
 "nbformat": 4,
 "nbformat_minor": 5
}
