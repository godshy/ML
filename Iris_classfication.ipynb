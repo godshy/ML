{
 "cells": [
  {
   "cell_type": "code",
   "execution_count": 24,
   "metadata": {
    "collapsed": true
   },
   "outputs": [],
   "source": [
    "import numpy as np\n",
    "from sklearn.datasets import load_iris\n",
    "from collections import defaultdict\n",
    "from operator import itemgetter"
   ]
  },
  {
   "cell_type": "code",
   "execution_count": 25,
   "outputs": [],
   "source": [
    "dataset = load_iris()\n"
   ],
   "metadata": {
    "collapsed": false,
    "pycharm": {
     "name": "#%%\n"
    }
   }
  },
  {
   "cell_type": "code",
   "execution_count": 26,
   "outputs": [],
   "source": [
    "X = dataset.data\n",
    "Y = dataset.target\n",
    "#print(X)\n",
    "#print(Y)"
   ],
   "metadata": {
    "collapsed": false,
    "pycharm": {
     "name": "#%%\n"
    }
   }
  },
  {
   "cell_type": "code",
   "execution_count": 27,
   "outputs": [],
   "source": [
    "attribute_means=X.mean(axis = 0)\n",
    "#print(attribute_means)\n"
   ],
   "metadata": {
    "collapsed": false,
    "pycharm": {
     "name": "#%%\n"
    }
   }
  },
  {
   "cell_type": "code",
   "execution_count": 28,
   "outputs": [
    {
     "name": "stdout",
     "output_type": "stream",
     "text": [
      "[[0 1 0 0]\n",
      " [0 0 0 0]\n",
      " [0 1 0 0]\n",
      " [0 1 0 0]\n",
      " [0 1 0 0]\n",
      " [0 1 0 0]\n",
      " [0 1 0 0]\n",
      " [0 1 0 0]\n",
      " [0 0 0 0]\n",
      " [0 1 0 0]\n",
      " [0 1 0 0]\n",
      " [0 1 0 0]\n",
      " [0 0 0 0]\n",
      " [0 0 0 0]\n",
      " [0 1 0 0]\n",
      " [0 1 0 0]\n",
      " [0 1 0 0]\n",
      " [0 1 0 0]\n",
      " [0 1 0 0]\n",
      " [0 1 0 0]\n",
      " [0 1 0 0]\n",
      " [0 1 0 0]\n",
      " [0 1 0 0]\n",
      " [0 1 0 0]\n",
      " [0 1 0 0]\n",
      " [0 0 0 0]\n",
      " [0 1 0 0]\n",
      " [0 1 0 0]\n",
      " [0 1 0 0]\n",
      " [0 1 0 0]\n",
      " [0 1 0 0]\n",
      " [0 1 0 0]\n",
      " [0 1 0 0]\n",
      " [0 1 0 0]\n",
      " [0 1 0 0]\n",
      " [0 1 0 0]\n",
      " [0 1 0 0]\n",
      " [0 1 0 0]\n",
      " [0 0 0 0]\n",
      " [0 1 0 0]\n",
      " [0 1 0 0]\n",
      " [0 0 0 0]\n",
      " [0 1 0 0]\n",
      " [0 1 0 0]\n",
      " [0 1 0 0]\n",
      " [0 0 0 0]\n",
      " [0 1 0 0]\n",
      " [0 1 0 0]\n",
      " [0 1 0 0]\n",
      " [0 1 0 0]\n",
      " [1 1 1 1]\n",
      " [1 1 1 1]\n",
      " [1 1 1 1]\n",
      " [0 0 1 1]\n",
      " [1 0 1 1]\n",
      " [0 0 1 1]\n",
      " [1 1 1 1]\n",
      " [0 0 0 0]\n",
      " [1 0 1 1]\n",
      " [0 0 1 1]\n",
      " [0 0 0 0]\n",
      " [1 0 1 1]\n",
      " [1 0 1 0]\n",
      " [1 0 1 1]\n",
      " [0 0 0 1]\n",
      " [1 1 1 1]\n",
      " [0 0 1 1]\n",
      " [0 0 1 0]\n",
      " [1 0 1 1]\n",
      " [0 0 1 0]\n",
      " [1 1 1 1]\n",
      " [1 0 1 1]\n",
      " [1 0 1 1]\n",
      " [1 0 1 1]\n",
      " [1 0 1 1]\n",
      " [1 0 1 1]\n",
      " [1 0 1 1]\n",
      " [1 0 1 1]\n",
      " [1 0 1 1]\n",
      " [0 0 0 0]\n",
      " [0 0 1 0]\n",
      " [0 0 0 0]\n",
      " [0 0 1 1]\n",
      " [1 0 1 1]\n",
      " [0 0 1 1]\n",
      " [1 1 1 1]\n",
      " [1 1 1 1]\n",
      " [1 0 1 1]\n",
      " [0 0 1 1]\n",
      " [0 0 1 1]\n",
      " [0 0 1 1]\n",
      " [1 0 1 1]\n",
      " [0 0 1 1]\n",
      " [0 0 0 0]\n",
      " [0 0 1 1]\n",
      " [0 0 1 1]\n",
      " [0 0 1 1]\n",
      " [1 0 1 1]\n",
      " [0 0 0 0]\n",
      " [0 0 1 1]\n",
      " [1 1 1 1]\n",
      " [0 0 1 1]\n",
      " [1 0 1 1]\n",
      " [1 0 1 1]\n",
      " [1 0 1 1]\n",
      " [1 0 1 1]\n",
      " [0 0 1 1]\n",
      " [1 0 1 1]\n",
      " [1 0 1 1]\n",
      " [1 1 1 1]\n",
      " [1 1 1 1]\n",
      " [1 0 1 1]\n",
      " [1 0 1 1]\n",
      " [0 0 1 1]\n",
      " [0 0 1 1]\n",
      " [1 1 1 1]\n",
      " [1 0 1 1]\n",
      " [1 1 1 1]\n",
      " [1 0 1 1]\n",
      " [1 0 1 1]\n",
      " [1 1 1 1]\n",
      " [0 0 1 1]\n",
      " [1 0 1 1]\n",
      " [1 0 1 1]\n",
      " [1 1 1 1]\n",
      " [1 1 1 1]\n",
      " [1 0 1 1]\n",
      " [1 0 1 1]\n",
      " [1 0 1 1]\n",
      " [1 0 1 1]\n",
      " [1 0 1 1]\n",
      " [1 1 1 1]\n",
      " [1 0 1 1]\n",
      " [1 0 1 1]\n",
      " [1 0 1 1]\n",
      " [1 0 1 1]\n",
      " [1 1 1 1]\n",
      " [1 1 1 1]\n",
      " [1 0 1 1]\n",
      " [1 1 1 1]\n",
      " [1 1 1 1]\n",
      " [1 1 1 1]\n",
      " [0 0 1 1]\n",
      " [1 1 1 1]\n",
      " [1 1 1 1]\n",
      " [1 0 1 1]\n",
      " [1 0 1 1]\n",
      " [1 0 1 1]\n",
      " [1 1 1 1]\n",
      " [1 0 1 1]]\n"
     ]
    }
   ],
   "source": [
    "X_d = np.array(X >= attribute_means, dtype= 'int')\n",
    "#print(X_d)"
   ],
   "metadata": {
    "collapsed": false,
    "pycharm": {
     "name": "#%%\n"
    }
   }
  },
  {
   "cell_type": "code",
   "execution_count": null,
   "outputs": [],
   "source": [
    "def train_feature_value(X, y_true, feature_index, value):\n",
    "    class_counts = defaultdict(int)\n",
    "    for sample, y in zip(X, y_true) :\n",
    "        if sample[feature_index] == value:\n",
    "            class_counts[y] += 1\n",
    "    sorted_class_counts = sorted(class_counts.items(), key= itemgetter(1), reverse= True)\n",
    "    most_freq_class = sorted_class_counts[0][0]\n"
   ],
   "metadata": {
    "collapsed": false,
    "pycharm": {
     "name": "#%%\n"
    }
   }
  }
 ],
 "metadata": {
  "kernelspec": {
   "name": "pycharm-401621b5",
   "language": "python",
   "display_name": "PyCharm (ML)"
  },
  "language_info": {
   "codemirror_mode": {
    "name": "ipython",
    "version": 2
   },
   "file_extension": ".py",
   "mimetype": "text/x-python",
   "name": "python",
   "nbconvert_exporter": "python",
   "pygments_lexer": "ipython2",
   "version": "2.7.6"
  }
 },
 "nbformat": 4,
 "nbformat_minor": 0
}